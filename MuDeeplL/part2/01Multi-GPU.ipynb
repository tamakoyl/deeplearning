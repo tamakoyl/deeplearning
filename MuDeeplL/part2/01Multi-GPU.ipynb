{
 "cells": [
  {
   "cell_type": "markdown",
   "metadata": {},
   "source": [
    "# 多GPU训练"
   ]
  },
  {
   "cell_type": "code",
   "execution_count": 1,
   "metadata": {},
   "outputs": [],
   "source": [
    "%matplotlib inline\n",
    "import torch \n",
    "from torch import nn\n",
    "from torch.nn import functional as F\n",
    "from d2l import torch as d2l\n"
   ]
  },
  {
   "cell_type": "markdown",
   "metadata": {},
   "source": [
    "简单网络"
   ]
  },
  {
   "cell_type": "code",
   "execution_count": 2,
   "metadata": {},
   "outputs": [],
   "source": [
    "scale = 0.01\n",
    "# 四个blocks,分别分给四块GPU\n",
    "W1 = torch.randn(size=(20, 1, 3, 3)) * scale\n",
    "b1 = torch.zeros(20)\n",
    "W2 = torch.randn(size=(50, 20, 5, 5)) * scale\n",
    "b2 = torch.zeros(50)\n",
    "W3 = torch.randn(size=(800, 128)) * scale\n",
    "b3 = torch.zeros(128)\n",
    "W4 = torch.randn(size=(128, 10)) * scale\n",
    "b4 = torch.zeros(10)\n",
    "params = [W1, b1, W2, b2, W3, b3, W4, b4]"
   ]
  },
  {
   "cell_type": "code",
   "execution_count": 3,
   "metadata": {},
   "outputs": [],
   "source": [
    "def lenet(X, params):\n",
    "    h1_conv = F.conv2d(input=X, weight=params[0], bias=params[1])\n",
    "    h1_activation = F.relu(h1_conv)\n",
    "    h1 = F.avg_pool2d(input=h1_activation, kernel_size=(2, 2), stride=(2, 2))\n",
    "    h2_conv = F.conv2d(input=h1, weight=params[2], bias=params[3])\n",
    "    h2_activation = F.relu(h2_conv)\n",
    "    h2 = F.avg_pool2d(input=h2_activation, kernel_size=(2, 2), stride=(2, 2))\n",
    "    #??\n",
    "    h2 = h2.reshape(h2.shape[0], -1)\n",
    "    #?? mm\n",
    "    h3_linear = torch.mm(h2, params[4]) + params[5]\n",
    "    h3 = F.relu(h3_linear)\n",
    "    y_hat = torch.mm(h3, params[6]) + params[7]\n",
    "    return y_hat\n",
    "\n",
    "loss = nn.CrossEntropyLoss(reduction='none')"
   ]
  },
  {
   "cell_type": "markdown",
   "metadata": {},
   "source": [
    "向多个设备分发参数"
   ]
  },
  {
   "cell_type": "code",
   "execution_count": 4,
   "metadata": {},
   "outputs": [],
   "source": [
    "# 把参数复制到gpu上\n",
    "def get_params(params,device):\n",
    "    #if p 已经在GPU了，就不会copy\n",
    "    # 保险一点就是clone最好\n",
    "    new_params = [p.clone().to(device) for p in params]\n",
    "    for p in new_params:\n",
    "        #需要计算梯度\n",
    "        p.requires_grad()\n",
    "    return new_params\n",
    "\n",
    "# new_params = get_params(params, d2l.try_gpu(0))\n",
    "# print('b1 weight:', new_params[1])\n",
    "# print('b1 grad:', new_params[1].grad)"
   ]
  },
  {
   "cell_type": "markdown",
   "metadata": {},
   "source": [
    "allreduce 函数将所有向量相加，并将结果广播给所有 GPU\n",
    "\n",
    "\n",
    "![](imgs/2022-09-20-16-38-48.png)"
   ]
  },
  {
   "cell_type": "code",
   "execution_count": 5,
   "metadata": {},
   "outputs": [],
   "source": [
    "def allreduce(data):\n",
    "    for i in range(1, len(data)):\n",
    "        #把其他GPU的向量加到cuda0\n",
    "        data[0][:] += data[i].to(data[0].device)\n",
    "    for i in range(1, len(data)):\n",
    "        #在将cuda0加和后的res 广播到其他cuda\n",
    "        data[i] = data[0].to(data[i].device)\n",
    "\n",
    "# data = [torch.ones((1, 2), device=d2l.try_gpu(i)) * (i + 1) for i in range(2)]\n",
    "# print('before allreduce:\\n', data[0], '\\n', data[1])\n",
    "# allreduce(data)\n",
    "# print('after allreduce:\\n', data[0], '\\n', data[1])"
   ]
  },
  {
   "cell_type": "markdown",
   "metadata": {},
   "source": [
    "before allreduce:<br/>\n",
    " tensor([[1., 1.]], device='cuda:0') <br/>\n",
    " tensor([[2., 2.]], device='cuda:1')<br/>\n",
    "after allreduce:<br/>\n",
    " tensor([[3., 3.]], device='cuda:0') <br/>\n",
    " tensor([[3., 3.]], device='cuda:1')<br/>"
   ]
  },
  {
   "cell_type": "markdown",
   "metadata": {},
   "source": [
    "将一个小批量数据均匀地分布在多个 GPU 上"
   ]
  },
  {
   "cell_type": "code",
   "execution_count": 6,
   "metadata": {},
   "outputs": [],
   "source": [
    "# data = torch.arange(20).reshape(4, 5)\n",
    "# devices = [torch.device('cuda:0'), torch.device('cuda:1')]\n",
    "# #有一个data，scatter可以均匀得把data划分到不同的cuda\n",
    "# split = nn.parallel.scatter(data, devices)\n",
    "# print('input :', data)\n",
    "# print('load into', devices)\n",
    "# print('output:', split)"
   ]
  },
  {
   "cell_type": "markdown",
   "metadata": {},
   "source": [
    "input : tensor([[ 0,  1,  2,  3,  4],<br/>\n",
    "        [ 5,  6,  7,  8,  9],<br/>\n",
    "        [10, 11, 12, 13, 14],<br/>\n",
    "        [15, 16, 17, 18, 19]])<br/>\n",
    "load into [device(type='cuda', index=0), device(type='cuda', index=1)]<br/>\n",
    "output: (tensor([[0, 1, 2, 3, 4],<br/>\n",
    "        [5, 6, 7, 8, 9]], device='cuda:0'), tensor([[10, 11, 12, 13, 14],<br/>\n",
    "        [15, 16, 17, 18, 19]], device='cuda:1'))<br/>"
   ]
  },
  {
   "cell_type": "code",
   "execution_count": 7,
   "metadata": {},
   "outputs": [],
   "source": [
    "def split_batch(X, y, devices):\n",
    "    \"\"\"将`X`和`y`拆分到多个设备上\"\"\"\n",
    "    #样本数相同\n",
    "    assert X.shape[0] == y.shape[0]\n",
    "    return (nn.parallel.scatter(X, devices), nn.parallel.scatter(y, devices))"
   ]
  },
  {
   "cell_type": "markdown",
   "metadata": {},
   "source": [
    "在一个小批量上实现多 GPU 训练"
   ]
  },
  {
   "cell_type": "code",
   "execution_count": 8,
   "metadata": {},
   "outputs": [],
   "source": [
    "def train_batch(X, y, device_params, devices, lr):\n",
    "    #把X,y均匀划分，并且把他们放到不同的cuda\n",
    "    X_shards, y_shards = split_batch(X, y, devices)\n",
    "    # loss：计算每个cuda分到的批量的loss\n",
    "    ls = [loss(lenet(X_shard, device_W),y_shard).sum() \n",
    "             for X_shard, y_shard, device_W in zip(\n",
    "                 X_shards, y_shards, device_params)]\n",
    "    # 计算梯度每个cuda上的梯度\n",
    "    for l in ls:\n",
    "        l.backward()\n",
    "    #关闭梯度\n",
    "    with torch.no_grad():\n",
    "        for i in range(len(device_params[0])):\n",
    "            #每一层：把各个cuda计算得到的梯度累加\n",
    "            allreduce([device_params[c][i].grad for c in range(len(devices))])\n",
    "    # 每个cuda各自更新参数\n",
    "    for param in device_params:\n",
    "        d2l.sgd(param, lr, X.shape[0])"
   ]
  },
  {
   "cell_type": "markdown",
   "metadata": {},
   "source": [
    "定义训练函数"
   ]
  },
  {
   "cell_type": "code",
   "execution_count": 9,
   "metadata": {},
   "outputs": [],
   "source": [
    "def train(num_gpus, batch_size, lr):\n",
    "    train_iter, test_iter = d2l.load_data_fashion_mnist(batch_size)\n",
    "    devices = [d2l.try_gpu(i) for i in range(num_gpus)]\n",
    "    #给每个cuda 复制参数\n",
    "    device_params = [get_params(params, d) for d in devices]\n",
    "    num_epochs = 10\n",
    "    animator = d2l.Animator('epoch', 'test acc', xlim=[1, num_epochs])\n",
    "    timer = d2l.Timer()\n",
    "    for epoch in range(num_epochs):\n",
    "        timer.start()\n",
    "        for X, y in train_iter:\n",
    "            train_batch(X, y, device_params, devices, lr)\n",
    "            # 加入同步机制，保证每个cuda都做完了\n",
    "            torch.cuda.synchronize()\n",
    "        timer.stop()\n",
    "        animator.add(epoch + 1, (d2l.evaluate_accuracy_gpu(\n",
    "            lambda x: lenet(x, device_params[0]), test_iter, devices[0]),))\n",
    "    print(f'test acc: {animator.Y[0][-1]:.2f}, {timer.avg():.1f} sec/epoch '\n",
    "          f'on {str(devices)}')"
   ]
  },
  {
   "cell_type": "markdown",
   "metadata": {},
   "source": [
    "在单个GPU上运行"
   ]
  },
  {
   "cell_type": "code",
   "execution_count": 10,
   "metadata": {},
   "outputs": [
    {
     "ename": "TypeError",
     "evalue": "'bool' object is not callable",
     "output_type": "error",
     "traceback": [
      "\u001b[1;31m---------------------------------------------------------------------------\u001b[0m",
      "\u001b[1;31mTypeError\u001b[0m                                 Traceback (most recent call last)",
      "\u001b[1;32me:\\python\\pyproject\\DeepL\\MuDeeplL\\part2\\01Multi-GPU.ipynb Cell 20\u001b[0m in \u001b[0;36m<cell line: 1>\u001b[1;34m()\u001b[0m\n\u001b[1;32m----> <a href='vscode-notebook-cell:/e%3A/python/pyproject/DeepL/MuDeeplL/part2/01Multi-GPU.ipynb#X34sZmlsZQ%3D%3D?line=0'>1</a>\u001b[0m train(num_gpus\u001b[39m=\u001b[39;49m\u001b[39m1\u001b[39;49m, batch_size\u001b[39m=\u001b[39;49m\u001b[39m256\u001b[39;49m, lr\u001b[39m=\u001b[39;49m\u001b[39m0.2\u001b[39;49m)\n",
      "\u001b[1;32me:\\python\\pyproject\\DeepL\\MuDeeplL\\part2\\01Multi-GPU.ipynb Cell 20\u001b[0m in \u001b[0;36mtrain\u001b[1;34m(num_gpus, batch_size, lr)\u001b[0m\n\u001b[0;32m      <a href='vscode-notebook-cell:/e%3A/python/pyproject/DeepL/MuDeeplL/part2/01Multi-GPU.ipynb#X34sZmlsZQ%3D%3D?line=2'>3</a>\u001b[0m devices \u001b[39m=\u001b[39m [d2l\u001b[39m.\u001b[39mtry_gpu(i) \u001b[39mfor\u001b[39;00m i \u001b[39min\u001b[39;00m \u001b[39mrange\u001b[39m(num_gpus)]\n\u001b[0;32m      <a href='vscode-notebook-cell:/e%3A/python/pyproject/DeepL/MuDeeplL/part2/01Multi-GPU.ipynb#X34sZmlsZQ%3D%3D?line=3'>4</a>\u001b[0m \u001b[39m#给每个cuda 复制参数\u001b[39;00m\n\u001b[1;32m----> <a href='vscode-notebook-cell:/e%3A/python/pyproject/DeepL/MuDeeplL/part2/01Multi-GPU.ipynb#X34sZmlsZQ%3D%3D?line=4'>5</a>\u001b[0m device_params \u001b[39m=\u001b[39m [get_params(params, d) \u001b[39mfor\u001b[39;00m d \u001b[39min\u001b[39;00m devices]\n\u001b[0;32m      <a href='vscode-notebook-cell:/e%3A/python/pyproject/DeepL/MuDeeplL/part2/01Multi-GPU.ipynb#X34sZmlsZQ%3D%3D?line=5'>6</a>\u001b[0m num_epochs \u001b[39m=\u001b[39m \u001b[39m10\u001b[39m\n\u001b[0;32m      <a href='vscode-notebook-cell:/e%3A/python/pyproject/DeepL/MuDeeplL/part2/01Multi-GPU.ipynb#X34sZmlsZQ%3D%3D?line=6'>7</a>\u001b[0m animator \u001b[39m=\u001b[39m d2l\u001b[39m.\u001b[39mAnimator(\u001b[39m'\u001b[39m\u001b[39mepoch\u001b[39m\u001b[39m'\u001b[39m, \u001b[39m'\u001b[39m\u001b[39mtest acc\u001b[39m\u001b[39m'\u001b[39m, xlim\u001b[39m=\u001b[39m[\u001b[39m1\u001b[39m, num_epochs])\n",
      "\u001b[1;32me:\\python\\pyproject\\DeepL\\MuDeeplL\\part2\\01Multi-GPU.ipynb Cell 20\u001b[0m in \u001b[0;36m<listcomp>\u001b[1;34m(.0)\u001b[0m\n\u001b[0;32m      <a href='vscode-notebook-cell:/e%3A/python/pyproject/DeepL/MuDeeplL/part2/01Multi-GPU.ipynb#X34sZmlsZQ%3D%3D?line=2'>3</a>\u001b[0m devices \u001b[39m=\u001b[39m [d2l\u001b[39m.\u001b[39mtry_gpu(i) \u001b[39mfor\u001b[39;00m i \u001b[39min\u001b[39;00m \u001b[39mrange\u001b[39m(num_gpus)]\n\u001b[0;32m      <a href='vscode-notebook-cell:/e%3A/python/pyproject/DeepL/MuDeeplL/part2/01Multi-GPU.ipynb#X34sZmlsZQ%3D%3D?line=3'>4</a>\u001b[0m \u001b[39m#给每个cuda 复制参数\u001b[39;00m\n\u001b[1;32m----> <a href='vscode-notebook-cell:/e%3A/python/pyproject/DeepL/MuDeeplL/part2/01Multi-GPU.ipynb#X34sZmlsZQ%3D%3D?line=4'>5</a>\u001b[0m device_params \u001b[39m=\u001b[39m [get_params(params, d) \u001b[39mfor\u001b[39;00m d \u001b[39min\u001b[39;00m devices]\n\u001b[0;32m      <a href='vscode-notebook-cell:/e%3A/python/pyproject/DeepL/MuDeeplL/part2/01Multi-GPU.ipynb#X34sZmlsZQ%3D%3D?line=5'>6</a>\u001b[0m num_epochs \u001b[39m=\u001b[39m \u001b[39m10\u001b[39m\n\u001b[0;32m      <a href='vscode-notebook-cell:/e%3A/python/pyproject/DeepL/MuDeeplL/part2/01Multi-GPU.ipynb#X34sZmlsZQ%3D%3D?line=6'>7</a>\u001b[0m animator \u001b[39m=\u001b[39m d2l\u001b[39m.\u001b[39mAnimator(\u001b[39m'\u001b[39m\u001b[39mepoch\u001b[39m\u001b[39m'\u001b[39m, \u001b[39m'\u001b[39m\u001b[39mtest acc\u001b[39m\u001b[39m'\u001b[39m, xlim\u001b[39m=\u001b[39m[\u001b[39m1\u001b[39m, num_epochs])\n",
      "\u001b[1;32me:\\python\\pyproject\\DeepL\\MuDeeplL\\part2\\01Multi-GPU.ipynb Cell 20\u001b[0m in \u001b[0;36mget_params\u001b[1;34m(params, device)\u001b[0m\n\u001b[0;32m      <a href='vscode-notebook-cell:/e%3A/python/pyproject/DeepL/MuDeeplL/part2/01Multi-GPU.ipynb#X34sZmlsZQ%3D%3D?line=4'>5</a>\u001b[0m new_params \u001b[39m=\u001b[39m [p\u001b[39m.\u001b[39mclone()\u001b[39m.\u001b[39mto(device) \u001b[39mfor\u001b[39;00m p \u001b[39min\u001b[39;00m params]\n\u001b[0;32m      <a href='vscode-notebook-cell:/e%3A/python/pyproject/DeepL/MuDeeplL/part2/01Multi-GPU.ipynb#X34sZmlsZQ%3D%3D?line=5'>6</a>\u001b[0m \u001b[39mfor\u001b[39;00m p \u001b[39min\u001b[39;00m new_params:\n\u001b[0;32m      <a href='vscode-notebook-cell:/e%3A/python/pyproject/DeepL/MuDeeplL/part2/01Multi-GPU.ipynb#X34sZmlsZQ%3D%3D?line=6'>7</a>\u001b[0m     \u001b[39m#需要计算梯度\u001b[39;00m\n\u001b[1;32m----> <a href='vscode-notebook-cell:/e%3A/python/pyproject/DeepL/MuDeeplL/part2/01Multi-GPU.ipynb#X34sZmlsZQ%3D%3D?line=7'>8</a>\u001b[0m     p\u001b[39m.\u001b[39;49mrequires_grad()\n\u001b[0;32m      <a href='vscode-notebook-cell:/e%3A/python/pyproject/DeepL/MuDeeplL/part2/01Multi-GPU.ipynb#X34sZmlsZQ%3D%3D?line=8'>9</a>\u001b[0m \u001b[39mreturn\u001b[39;00m new_params\n",
      "\u001b[1;31mTypeError\u001b[0m: 'bool' object is not callable"
     ]
    }
   ],
   "source": [
    "train(num_gpus=1, batch_size=256, lr=0.2)"
   ]
  },
  {
   "cell_type": "markdown",
   "metadata": {},
   "source": [
    "增加为2个GPU"
   ]
  },
  {
   "cell_type": "code",
   "execution_count": null,
   "metadata": {},
   "outputs": [],
   "source": [
    "# train(num_gpus=2, batch_size=256, lr=0.2)"
   ]
  },
  {
   "cell_type": "markdown",
   "metadata": {},
   "source": [
    " 实验结果显示单个gpu 跑 和两个gpu跑处理一个epoch的速度都相同\n",
    " - 通常是增加了gpu但是没有增加batch_size，batch均分给各个gpu后，变小了，做计算的矩阵会变小，影响性能，没用用满gpu\n",
    " - 通常保证，增加gpu后，各个gpu拿到与之前同样的batch_size,并且lr增大一些(x1.5)\n",
    " - 老师的example 在多gpu上run lenet ，测试精度比单GPU 降了一些(0.82 --> 0.64)，并且处理的速度也没有达到原来的两倍\n",
    "    - 裸写的code，对pytorch框架不友好\n",
    "    - lenet这个网络太小了，无法发挥多cpu的效果"
   ]
  },
  {
   "cell_type": "markdown",
   "metadata": {},
   "source": [
    "![](imgs/2022-09-20-18-08-33.png)"
   ]
  },
  {
   "cell_type": "markdown",
   "metadata": {},
   "source": [
    "![](imgs/2022-09-20-18-08-45.png)"
   ]
  }
 ],
 "metadata": {
  "kernelspec": {
   "display_name": "Python 3.8.13 ('pytorch')",
   "language": "python",
   "name": "python3"
  },
  "language_info": {
   "codemirror_mode": {
    "name": "ipython",
    "version": 3
   },
   "file_extension": ".py",
   "mimetype": "text/x-python",
   "name": "python",
   "nbconvert_exporter": "python",
   "pygments_lexer": "ipython3",
   "version": "3.8.13"
  },
  "orig_nbformat": 4,
  "vscode": {
   "interpreter": {
    "hash": "2e6dea04d1ee67d02776821fdeeb43d084fbfe2bd3d12fe23449057b6c79404a"
   }
  }
 },
 "nbformat": 4,
 "nbformat_minor": 2
}
